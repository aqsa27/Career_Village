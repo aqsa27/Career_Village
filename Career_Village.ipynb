{
 "cells": [
  {
   "cell_type": "code",
   "execution_count": 1,
   "metadata": {
    "_uuid": "dde4507c2f33365040f867b494ced9b7a4ea13fc"
   },
   "outputs": [],
   "source": [
    "import pandas as pd"
   ]
  },
  {
   "cell_type": "code",
   "execution_count": 2,
   "metadata": {
    "_uuid": "872cf4146a5b69b26262c6159d2ef7536ca3ec13"
   },
   "outputs": [
    {
     "name": "stdout",
     "output_type": "stream",
     "text": [
      "answer_scores.csv      groups.csv\t    school_memberships.csv\r\n",
      "answers.csv\t       matches.csv\t    students.csv\r\n",
      "comments.csv\t       professionals.csv    tag_questions.csv\r\n",
      "emails.csv\t       question_scores.csv  tag_users.csv\r\n",
      "group_memberships.csv  questions.csv\t    tags.csv\r\n"
     ]
    }
   ],
   "source": [
    "!ls ../input"
   ]
  },
  {
   "cell_type": "markdown",
   "metadata": {
    "_uuid": "5f6034b8613b4918ea084c7f50d1706144d1e4f4"
   },
   "source": [
    "### Howdy\n",
    "\n",
    "Your job in this Data Science for Good competition is to develop a recommendation engine that will suggest relevant questions to professionals via email. Students ask questons on the CareerVillage.org platform and Professionals answer them. CareerVillage.org has a pretty good recommendation system inplace that's based on hard-coded rules. They would love to make it more efficient and improve it's performance. That's where you come in :)\n",
    "\n",
    "Since questions and answers are the main focus of this competition, I thought it would be helpful to join a few tables together to help get things started. This is totally not an exhaustive list of things to do and there's a lot more data to explore so go get wild!\n"
   ]
  },
  {
   "cell_type": "markdown",
   "metadata": {
    "_uuid": "924ef47ae24cee620184bd25bf8417d80c3fd1a4"
   },
   "source": [
    "It's all about questions and answer and how to make proper recommendations so these tables might be a good palce to start:\n",
    "\n",
    "- questions.csv\n",
    "- answers.csv\n",
    "- professionals.csv"
   ]
  },
  {
   "cell_type": "code",
   "execution_count": 3,
   "metadata": {
    "_cell_guid": "79c7e3d0-c299-4dcb-8224-4455121ee9b0",
    "_uuid": "d629ff2d2480ee46fbb7e2d37f6b5fab8052498a"
   },
   "outputs": [],
   "source": [
    "questions = pd.read_csv('../input/questions.csv')\n",
    "answers = pd.read_csv('../input/answers.csv')\n",
    "professionals = pd.read_csv('../input/professionals.csv')"
   ]
  },
  {
   "cell_type": "code",
   "execution_count": 4,
   "metadata": {
    "_uuid": "3d3d926a781225153b08a93ea46702f6b52a55df"
   },
   "outputs": [
    {
     "data": {
      "text/html": [
       "<div>\n",
       "<style scoped>\n",
       "    .dataframe tbody tr th:only-of-type {\n",
       "        vertical-align: middle;\n",
       "    }\n",
       "\n",
       "    .dataframe tbody tr th {\n",
       "        vertical-align: top;\n",
       "    }\n",
       "\n",
       "    .dataframe thead th {\n",
       "        text-align: right;\n",
       "    }\n",
       "</style>\n",
       "<table border=\"1\" class=\"dataframe\">\n",
       "  <thead>\n",
       "    <tr style=\"text-align: right;\">\n",
       "      <th></th>\n",
       "      <th>questions_id</th>\n",
       "      <th>questions_author_id</th>\n",
       "      <th>questions_date_added</th>\n",
       "      <th>questions_title</th>\n",
       "      <th>questions_body</th>\n",
       "    </tr>\n",
       "  </thead>\n",
       "  <tbody>\n",
       "    <tr>\n",
       "      <th>0</th>\n",
       "      <td>332a511f1569444485cf7a7a556a5e54</td>\n",
       "      <td>8f6f374ffd834d258ab69d376dd998f5</td>\n",
       "      <td>2016-04-26 11:14:26 UTC+0000</td>\n",
       "      <td>Teacher   career   question</td>\n",
       "      <td>What  is  a  maths  teacher?   what  is  a  ma...</td>\n",
       "    </tr>\n",
       "    <tr>\n",
       "      <th>1</th>\n",
       "      <td>eb80205482e4424cad8f16bc25aa2d9c</td>\n",
       "      <td>acccbda28edd4362ab03fb8b6fd2d67b</td>\n",
       "      <td>2016-05-20 16:48:25 UTC+0000</td>\n",
       "      <td>I want to become an army officer. What can I d...</td>\n",
       "      <td>I am Priyanka from Bangalore . Now am in 10th ...</td>\n",
       "    </tr>\n",
       "    <tr>\n",
       "      <th>2</th>\n",
       "      <td>4ec31632938a40b98909416bdd0decff</td>\n",
       "      <td>f2c179a563024ccc927399ce529094b5</td>\n",
       "      <td>2017-02-08 19:13:38 UTC+0000</td>\n",
       "      <td>Will going abroad for your first job increase ...</td>\n",
       "      <td>I'm planning on going abroad for my first job....</td>\n",
       "    </tr>\n",
       "    <tr>\n",
       "      <th>3</th>\n",
       "      <td>2f6a9a99d9b24e5baa50d40d0ba50a75</td>\n",
       "      <td>2c30ffba444e40eabb4583b55233a5a4</td>\n",
       "      <td>2017-09-01 14:05:32 UTC+0000</td>\n",
       "      <td>To become a specialist in business  management...</td>\n",
       "      <td>i hear business management is a hard way to ge...</td>\n",
       "    </tr>\n",
       "    <tr>\n",
       "      <th>4</th>\n",
       "      <td>5af8880460c141dbb02971a1a8369529</td>\n",
       "      <td>aa9eb1a2ab184ebbb00dc01ab663428a</td>\n",
       "      <td>2017-09-01 02:36:54 UTC+0000</td>\n",
       "      <td>Are there any scholarships out there for stude...</td>\n",
       "      <td>I'm trying to find scholarships for first year...</td>\n",
       "    </tr>\n",
       "  </tbody>\n",
       "</table>\n",
       "</div>"
      ],
      "text/plain": [
       "                       questions_id                        ...                                                             questions_body\n",
       "0  332a511f1569444485cf7a7a556a5e54                        ...                          What  is  a  maths  teacher?   what  is  a  ma...\n",
       "1  eb80205482e4424cad8f16bc25aa2d9c                        ...                          I am Priyanka from Bangalore . Now am in 10th ...\n",
       "2  4ec31632938a40b98909416bdd0decff                        ...                          I'm planning on going abroad for my first job....\n",
       "3  2f6a9a99d9b24e5baa50d40d0ba50a75                        ...                          i hear business management is a hard way to ge...\n",
       "4  5af8880460c141dbb02971a1a8369529                        ...                          I'm trying to find scholarships for first year...\n",
       "\n",
       "[5 rows x 5 columns]"
      ]
     },
     "execution_count": 4,
     "metadata": {},
     "output_type": "execute_result"
    }
   ],
   "source": [
    "questions.head()"
   ]
  },
  {
   "cell_type": "code",
   "execution_count": 5,
   "metadata": {
    "_uuid": "070e948e404a1eef4436211be3796948b2f3b007"
   },
   "outputs": [
    {
     "data": {
      "text/html": [
       "<div>\n",
       "<style scoped>\n",
       "    .dataframe tbody tr th:only-of-type {\n",
       "        vertical-align: middle;\n",
       "    }\n",
       "\n",
       "    .dataframe tbody tr th {\n",
       "        vertical-align: top;\n",
       "    }\n",
       "\n",
       "    .dataframe thead th {\n",
       "        text-align: right;\n",
       "    }\n",
       "</style>\n",
       "<table border=\"1\" class=\"dataframe\">\n",
       "  <thead>\n",
       "    <tr style=\"text-align: right;\">\n",
       "      <th></th>\n",
       "      <th>answers_id</th>\n",
       "      <th>answers_author_id</th>\n",
       "      <th>answers_question_id</th>\n",
       "      <th>answers_date_added</th>\n",
       "      <th>answers_body</th>\n",
       "    </tr>\n",
       "  </thead>\n",
       "  <tbody>\n",
       "    <tr>\n",
       "      <th>0</th>\n",
       "      <td>4e5f01128cae4f6d8fd697cec5dca60c</td>\n",
       "      <td>36ff3b3666df400f956f8335cf53e09e</td>\n",
       "      <td>332a511f1569444485cf7a7a556a5e54</td>\n",
       "      <td>2016-04-29 19:40:14 UTC+0000</td>\n",
       "      <td>&lt;p&gt;Hi!&lt;/p&gt;\\n&lt;p&gt;You are asking a very interesti...</td>\n",
       "    </tr>\n",
       "    <tr>\n",
       "      <th>1</th>\n",
       "      <td>ada720538c014e9b8a6dceed09385ee3</td>\n",
       "      <td>2aa47af241bf42a4b874c453f0381bd4</td>\n",
       "      <td>eb80205482e4424cad8f16bc25aa2d9c</td>\n",
       "      <td>2018-05-01 14:19:08 UTC+0000</td>\n",
       "      <td>&lt;p&gt;Hi. I joined the Army after I attended coll...</td>\n",
       "    </tr>\n",
       "    <tr>\n",
       "      <th>2</th>\n",
       "      <td>eaa66ef919bc408ab5296237440e323f</td>\n",
       "      <td>cbd8f30613a849bf918aed5c010340be</td>\n",
       "      <td>eb80205482e4424cad8f16bc25aa2d9c</td>\n",
       "      <td>2018-05-02 02:41:02 UTC+0000</td>\n",
       "      <td>&lt;p&gt;Dear Priyanka,&lt;/p&gt;&lt;p&gt;Greetings! I have answ...</td>\n",
       "    </tr>\n",
       "    <tr>\n",
       "      <th>3</th>\n",
       "      <td>1a6b3749d391486c9e371fbd1e605014</td>\n",
       "      <td>7e72a630c303442ba92ff00e8ea451df</td>\n",
       "      <td>4ec31632938a40b98909416bdd0decff</td>\n",
       "      <td>2017-05-10 19:00:47 UTC+0000</td>\n",
       "      <td>&lt;p&gt;I work for a global company who values high...</td>\n",
       "    </tr>\n",
       "    <tr>\n",
       "      <th>4</th>\n",
       "      <td>5229c514000446d582050f89ebd4e184</td>\n",
       "      <td>17802d94699140b0a0d2995f30c034c6</td>\n",
       "      <td>2f6a9a99d9b24e5baa50d40d0ba50a75</td>\n",
       "      <td>2017-10-13 22:07:33 UTC+0000</td>\n",
       "      <td>I agree with Denise. Every single job I've had...</td>\n",
       "    </tr>\n",
       "  </tbody>\n",
       "</table>\n",
       "</div>"
      ],
      "text/plain": [
       "                         answers_id                        ...                                                               answers_body\n",
       "0  4e5f01128cae4f6d8fd697cec5dca60c                        ...                          <p>Hi!</p>\\n<p>You are asking a very interesti...\n",
       "1  ada720538c014e9b8a6dceed09385ee3                        ...                          <p>Hi. I joined the Army after I attended coll...\n",
       "2  eaa66ef919bc408ab5296237440e323f                        ...                          <p>Dear Priyanka,</p><p>Greetings! I have answ...\n",
       "3  1a6b3749d391486c9e371fbd1e605014                        ...                          <p>I work for a global company who values high...\n",
       "4  5229c514000446d582050f89ebd4e184                        ...                          I agree with Denise. Every single job I've had...\n",
       "\n",
       "[5 rows x 5 columns]"
      ]
     },
     "execution_count": 5,
     "metadata": {},
     "output_type": "execute_result"
    }
   ],
   "source": [
    "answers.head()"
   ]
  },
  {
   "cell_type": "code",
   "execution_count": 6,
   "metadata": {
    "_uuid": "ea84532895b00decd468d13adae89aca428cab05"
   },
   "outputs": [
    {
     "data": {
      "text/html": [
       "<div>\n",
       "<style scoped>\n",
       "    .dataframe tbody tr th:only-of-type {\n",
       "        vertical-align: middle;\n",
       "    }\n",
       "\n",
       "    .dataframe tbody tr th {\n",
       "        vertical-align: top;\n",
       "    }\n",
       "\n",
       "    .dataframe thead th {\n",
       "        text-align: right;\n",
       "    }\n",
       "</style>\n",
       "<table border=\"1\" class=\"dataframe\">\n",
       "  <thead>\n",
       "    <tr style=\"text-align: right;\">\n",
       "      <th></th>\n",
       "      <th>professionals_id</th>\n",
       "      <th>professionals_location</th>\n",
       "      <th>professionals_industry</th>\n",
       "      <th>professionals_headline</th>\n",
       "      <th>professionals_date_joined</th>\n",
       "    </tr>\n",
       "  </thead>\n",
       "  <tbody>\n",
       "    <tr>\n",
       "      <th>0</th>\n",
       "      <td>9ced4ce7519049c0944147afb75a8ce3</td>\n",
       "      <td>NaN</td>\n",
       "      <td>NaN</td>\n",
       "      <td>NaN</td>\n",
       "      <td>2011-10-05 20:35:19 UTC+0000</td>\n",
       "    </tr>\n",
       "    <tr>\n",
       "      <th>1</th>\n",
       "      <td>f718dcf6d2ec4cb0a52a9db59d7f9e67</td>\n",
       "      <td>NaN</td>\n",
       "      <td>NaN</td>\n",
       "      <td>NaN</td>\n",
       "      <td>2011-10-05 20:49:21 UTC+0000</td>\n",
       "    </tr>\n",
       "    <tr>\n",
       "      <th>2</th>\n",
       "      <td>0c673e046d824ec0ad0ebe012a0673e4</td>\n",
       "      <td>New York, New York</td>\n",
       "      <td>NaN</td>\n",
       "      <td>NaN</td>\n",
       "      <td>2011-10-18 17:31:26 UTC+0000</td>\n",
       "    </tr>\n",
       "    <tr>\n",
       "      <th>3</th>\n",
       "      <td>977428d851b24183b223be0eb8619a8c</td>\n",
       "      <td>Boston, Massachusetts</td>\n",
       "      <td>NaN</td>\n",
       "      <td>NaN</td>\n",
       "      <td>2011-11-09 20:39:29 UTC+0000</td>\n",
       "    </tr>\n",
       "    <tr>\n",
       "      <th>4</th>\n",
       "      <td>e2d57e5041a44f489288397c9904c2b2</td>\n",
       "      <td>NaN</td>\n",
       "      <td>NaN</td>\n",
       "      <td>NaN</td>\n",
       "      <td>2011-12-10 22:14:44 UTC+0000</td>\n",
       "    </tr>\n",
       "  </tbody>\n",
       "</table>\n",
       "</div>"
      ],
      "text/plain": [
       "                   professionals_id              ...                  professionals_date_joined\n",
       "0  9ced4ce7519049c0944147afb75a8ce3              ...               2011-10-05 20:35:19 UTC+0000\n",
       "1  f718dcf6d2ec4cb0a52a9db59d7f9e67              ...               2011-10-05 20:49:21 UTC+0000\n",
       "2  0c673e046d824ec0ad0ebe012a0673e4              ...               2011-10-18 17:31:26 UTC+0000\n",
       "3  977428d851b24183b223be0eb8619a8c              ...               2011-11-09 20:39:29 UTC+0000\n",
       "4  e2d57e5041a44f489288397c9904c2b2              ...               2011-12-10 22:14:44 UTC+0000\n",
       "\n",
       "[5 rows x 5 columns]"
      ]
     },
     "execution_count": 6,
     "metadata": {},
     "output_type": "execute_result"
    }
   ],
   "source": [
    "professionals.head()"
   ]
  },
  {
   "cell_type": "markdown",
   "metadata": {
    "_uuid": "5d16e18fc05708121567003d4516d1ee72b95173"
   },
   "source": [
    "First I'll join questions and answers together. Notice that each column name is prepended with the table name. \n",
    "\n"
   ]
  },
  {
   "cell_type": "code",
   "execution_count": 7,
   "metadata": {
    "_uuid": "704ef48463f486c9ec9ca52b23bd51286e3c7f00"
   },
   "outputs": [],
   "source": [
    "question_answers = questions.merge(right=answers, how='inner', left_on='questions_id', right_on='answers_question_id')"
   ]
  },
  {
   "cell_type": "code",
   "execution_count": 8,
   "metadata": {
    "_uuid": "86c84ed9ec12b1e457e67985bdbc1c56fde0d7ef"
   },
   "outputs": [
    {
     "data": {
      "text/html": [
       "<div>\n",
       "<style scoped>\n",
       "    .dataframe tbody tr th:only-of-type {\n",
       "        vertical-align: middle;\n",
       "    }\n",
       "\n",
       "    .dataframe tbody tr th {\n",
       "        vertical-align: top;\n",
       "    }\n",
       "\n",
       "    .dataframe thead th {\n",
       "        text-align: right;\n",
       "    }\n",
       "</style>\n",
       "<table border=\"1\" class=\"dataframe\">\n",
       "  <thead>\n",
       "    <tr style=\"text-align: right;\">\n",
       "      <th></th>\n",
       "      <th>questions_id</th>\n",
       "      <th>questions_author_id</th>\n",
       "      <th>questions_date_added</th>\n",
       "      <th>questions_title</th>\n",
       "      <th>questions_body</th>\n",
       "      <th>answers_id</th>\n",
       "      <th>answers_author_id</th>\n",
       "      <th>answers_question_id</th>\n",
       "      <th>answers_date_added</th>\n",
       "      <th>answers_body</th>\n",
       "    </tr>\n",
       "  </thead>\n",
       "  <tbody>\n",
       "    <tr>\n",
       "      <th>0</th>\n",
       "      <td>332a511f1569444485cf7a7a556a5e54</td>\n",
       "      <td>8f6f374ffd834d258ab69d376dd998f5</td>\n",
       "      <td>2016-04-26 11:14:26 UTC+0000</td>\n",
       "      <td>Teacher   career   question</td>\n",
       "      <td>What  is  a  maths  teacher?   what  is  a  ma...</td>\n",
       "      <td>4e5f01128cae4f6d8fd697cec5dca60c</td>\n",
       "      <td>36ff3b3666df400f956f8335cf53e09e</td>\n",
       "      <td>332a511f1569444485cf7a7a556a5e54</td>\n",
       "      <td>2016-04-29 19:40:14 UTC+0000</td>\n",
       "      <td>&lt;p&gt;Hi!&lt;/p&gt;\\n&lt;p&gt;You are asking a very interesti...</td>\n",
       "    </tr>\n",
       "    <tr>\n",
       "      <th>1</th>\n",
       "      <td>eb80205482e4424cad8f16bc25aa2d9c</td>\n",
       "      <td>acccbda28edd4362ab03fb8b6fd2d67b</td>\n",
       "      <td>2016-05-20 16:48:25 UTC+0000</td>\n",
       "      <td>I want to become an army officer. What can I d...</td>\n",
       "      <td>I am Priyanka from Bangalore . Now am in 10th ...</td>\n",
       "      <td>ada720538c014e9b8a6dceed09385ee3</td>\n",
       "      <td>2aa47af241bf42a4b874c453f0381bd4</td>\n",
       "      <td>eb80205482e4424cad8f16bc25aa2d9c</td>\n",
       "      <td>2018-05-01 14:19:08 UTC+0000</td>\n",
       "      <td>&lt;p&gt;Hi. I joined the Army after I attended coll...</td>\n",
       "    </tr>\n",
       "    <tr>\n",
       "      <th>2</th>\n",
       "      <td>eb80205482e4424cad8f16bc25aa2d9c</td>\n",
       "      <td>acccbda28edd4362ab03fb8b6fd2d67b</td>\n",
       "      <td>2016-05-20 16:48:25 UTC+0000</td>\n",
       "      <td>I want to become an army officer. What can I d...</td>\n",
       "      <td>I am Priyanka from Bangalore . Now am in 10th ...</td>\n",
       "      <td>eaa66ef919bc408ab5296237440e323f</td>\n",
       "      <td>cbd8f30613a849bf918aed5c010340be</td>\n",
       "      <td>eb80205482e4424cad8f16bc25aa2d9c</td>\n",
       "      <td>2018-05-02 02:41:02 UTC+0000</td>\n",
       "      <td>&lt;p&gt;Dear Priyanka,&lt;/p&gt;&lt;p&gt;Greetings! I have answ...</td>\n",
       "    </tr>\n",
       "    <tr>\n",
       "      <th>3</th>\n",
       "      <td>4ec31632938a40b98909416bdd0decff</td>\n",
       "      <td>f2c179a563024ccc927399ce529094b5</td>\n",
       "      <td>2017-02-08 19:13:38 UTC+0000</td>\n",
       "      <td>Will going abroad for your first job increase ...</td>\n",
       "      <td>I'm planning on going abroad for my first job....</td>\n",
       "      <td>1a6b3749d391486c9e371fbd1e605014</td>\n",
       "      <td>7e72a630c303442ba92ff00e8ea451df</td>\n",
       "      <td>4ec31632938a40b98909416bdd0decff</td>\n",
       "      <td>2017-05-10 19:00:47 UTC+0000</td>\n",
       "      <td>&lt;p&gt;I work for a global company who values high...</td>\n",
       "    </tr>\n",
       "    <tr>\n",
       "      <th>4</th>\n",
       "      <td>2f6a9a99d9b24e5baa50d40d0ba50a75</td>\n",
       "      <td>2c30ffba444e40eabb4583b55233a5a4</td>\n",
       "      <td>2017-09-01 14:05:32 UTC+0000</td>\n",
       "      <td>To become a specialist in business  management...</td>\n",
       "      <td>i hear business management is a hard way to ge...</td>\n",
       "      <td>5229c514000446d582050f89ebd4e184</td>\n",
       "      <td>17802d94699140b0a0d2995f30c034c6</td>\n",
       "      <td>2f6a9a99d9b24e5baa50d40d0ba50a75</td>\n",
       "      <td>2017-10-13 22:07:33 UTC+0000</td>\n",
       "      <td>I agree with Denise. Every single job I've had...</td>\n",
       "    </tr>\n",
       "  </tbody>\n",
       "</table>\n",
       "</div>"
      ],
      "text/plain": [
       "                       questions_id                        ...                                                               answers_body\n",
       "0  332a511f1569444485cf7a7a556a5e54                        ...                          <p>Hi!</p>\\n<p>You are asking a very interesti...\n",
       "1  eb80205482e4424cad8f16bc25aa2d9c                        ...                          <p>Hi. I joined the Army after I attended coll...\n",
       "2  eb80205482e4424cad8f16bc25aa2d9c                        ...                          <p>Dear Priyanka,</p><p>Greetings! I have answ...\n",
       "3  4ec31632938a40b98909416bdd0decff                        ...                          <p>I work for a global company who values high...\n",
       "4  2f6a9a99d9b24e5baa50d40d0ba50a75                        ...                          I agree with Denise. Every single job I've had...\n",
       "\n",
       "[5 rows x 10 columns]"
      ]
     },
     "execution_count": 8,
     "metadata": {},
     "output_type": "execute_result"
    }
   ],
   "source": [
    "question_answers.head()"
   ]
  },
  {
   "cell_type": "markdown",
   "metadata": {
    "_uuid": "17076e1d04518f688eca03821e3ddb23af61b8e4"
   },
   "source": [
    "The next thing I will do add the professionals table, because at the end of the day we'll probably need to know who answers which kinds of questions."
   ]
  },
  {
   "cell_type": "code",
   "execution_count": 9,
   "metadata": {
    "_uuid": "f45d0b7d451f197b25c97f87a8586d1a62a95184"
   },
   "outputs": [
    {
     "data": {
      "text/html": [
       "<div>\n",
       "<style scoped>\n",
       "    .dataframe tbody tr th:only-of-type {\n",
       "        vertical-align: middle;\n",
       "    }\n",
       "\n",
       "    .dataframe tbody tr th {\n",
       "        vertical-align: top;\n",
       "    }\n",
       "\n",
       "    .dataframe thead th {\n",
       "        text-align: right;\n",
       "    }\n",
       "</style>\n",
       "<table border=\"1\" class=\"dataframe\">\n",
       "  <thead>\n",
       "    <tr style=\"text-align: right;\">\n",
       "      <th></th>\n",
       "      <th>questions_id</th>\n",
       "      <th>questions_author_id</th>\n",
       "      <th>questions_date_added</th>\n",
       "      <th>questions_title</th>\n",
       "      <th>questions_body</th>\n",
       "      <th>answers_id</th>\n",
       "      <th>answers_author_id</th>\n",
       "      <th>answers_question_id</th>\n",
       "      <th>answers_date_added</th>\n",
       "      <th>answers_body</th>\n",
       "      <th>professionals_id</th>\n",
       "      <th>professionals_location</th>\n",
       "      <th>professionals_industry</th>\n",
       "      <th>professionals_headline</th>\n",
       "      <th>professionals_date_joined</th>\n",
       "    </tr>\n",
       "  </thead>\n",
       "  <tbody>\n",
       "    <tr>\n",
       "      <th>0</th>\n",
       "      <td>332a511f1569444485cf7a7a556a5e54</td>\n",
       "      <td>8f6f374ffd834d258ab69d376dd998f5</td>\n",
       "      <td>2016-04-26 11:14:26 UTC+0000</td>\n",
       "      <td>Teacher   career   question</td>\n",
       "      <td>What  is  a  maths  teacher?   what  is  a  ma...</td>\n",
       "      <td>4e5f01128cae4f6d8fd697cec5dca60c</td>\n",
       "      <td>36ff3b3666df400f956f8335cf53e09e</td>\n",
       "      <td>332a511f1569444485cf7a7a556a5e54</td>\n",
       "      <td>2016-04-29 19:40:14 UTC+0000</td>\n",
       "      <td>&lt;p&gt;Hi!&lt;/p&gt;\\n&lt;p&gt;You are asking a very interesti...</td>\n",
       "      <td>36ff3b3666df400f956f8335cf53e09e</td>\n",
       "      <td>Cleveland, Ohio</td>\n",
       "      <td>Mental Health Care</td>\n",
       "      <td>Assist with Recognizing and Developing Potential</td>\n",
       "      <td>2015-10-19 20:56:49 UTC+0000</td>\n",
       "    </tr>\n",
       "    <tr>\n",
       "      <th>1</th>\n",
       "      <td>0f1d6a4f276c4a05878dd48e03e52289</td>\n",
       "      <td>585ac233015447cc9e9a217044e515e1</td>\n",
       "      <td>2016-05-19 22:16:25 UTC+0000</td>\n",
       "      <td>what kind of  college could i go  to for a soc...</td>\n",
       "      <td>I like soccer because i been playing sense i w...</td>\n",
       "      <td>f3519ab99a1a4a13a8a9ecb814287d2a</td>\n",
       "      <td>36ff3b3666df400f956f8335cf53e09e</td>\n",
       "      <td>0f1d6a4f276c4a05878dd48e03e52289</td>\n",
       "      <td>2016-07-31 15:35:54 UTC+0000</td>\n",
       "      <td>&lt;p&gt;Hi Rodrigo!&lt;/p&gt;\\n&lt;p&gt;The important thing to ...</td>\n",
       "      <td>36ff3b3666df400f956f8335cf53e09e</td>\n",
       "      <td>Cleveland, Ohio</td>\n",
       "      <td>Mental Health Care</td>\n",
       "      <td>Assist with Recognizing and Developing Potential</td>\n",
       "      <td>2015-10-19 20:56:49 UTC+0000</td>\n",
       "    </tr>\n",
       "    <tr>\n",
       "      <th>2</th>\n",
       "      <td>0149c6d63e214040b44d4a3789bb00ba</td>\n",
       "      <td>34217a1861d640a58c85e033414cf9cb</td>\n",
       "      <td>2018-04-12 17:13:45 UTC+0000</td>\n",
       "      <td>What is the best way to prepare for studying e...</td>\n",
       "      <td>I am interested in Computational Neuroscience,...</td>\n",
       "      <td>825f6e316a5f48328d6f8af831df9940</td>\n",
       "      <td>36ff3b3666df400f956f8335cf53e09e</td>\n",
       "      <td>0149c6d63e214040b44d4a3789bb00ba</td>\n",
       "      <td>2018-04-15 23:08:46 UTC+0000</td>\n",
       "      <td>&lt;p&gt;Congratulations on being interested in find...</td>\n",
       "      <td>36ff3b3666df400f956f8335cf53e09e</td>\n",
       "      <td>Cleveland, Ohio</td>\n",
       "      <td>Mental Health Care</td>\n",
       "      <td>Assist with Recognizing and Developing Potential</td>\n",
       "      <td>2015-10-19 20:56:49 UTC+0000</td>\n",
       "    </tr>\n",
       "    <tr>\n",
       "      <th>3</th>\n",
       "      <td>acc611cfb5c44daa8a3d7d65dfffa5ff</td>\n",
       "      <td>5b751a8ee4a047f7a08ce9eb5e43e5a2</td>\n",
       "      <td>2018-08-14 04:49:33 UTC+0000</td>\n",
       "      <td>How should I prepare myself for my job search ...</td>\n",
       "      <td>I am a Sociology, Political Science, and Inter...</td>\n",
       "      <td>f3fc23809cda472780fc565334f35000</td>\n",
       "      <td>36ff3b3666df400f956f8335cf53e09e</td>\n",
       "      <td>acc611cfb5c44daa8a3d7d65dfffa5ff</td>\n",
       "      <td>2018-08-14 10:37:01 UTC+0000</td>\n",
       "      <td>&lt;p&gt;The most important thing that you can do is...</td>\n",
       "      <td>36ff3b3666df400f956f8335cf53e09e</td>\n",
       "      <td>Cleveland, Ohio</td>\n",
       "      <td>Mental Health Care</td>\n",
       "      <td>Assist with Recognizing and Developing Potential</td>\n",
       "      <td>2015-10-19 20:56:49 UTC+0000</td>\n",
       "    </tr>\n",
       "    <tr>\n",
       "      <th>4</th>\n",
       "      <td>b44409c0c83a43578f4f2d0a0e4d8ead</td>\n",
       "      <td>2fe767de78fa4dfd83f0021cf7712064</td>\n",
       "      <td>2016-12-07 20:43:41 UTC+0000</td>\n",
       "      <td>What majors do you recommend in order to be an...</td>\n",
       "      <td>I am currently enrolled in a World Musics clas...</td>\n",
       "      <td>7410001e9a2f46df982cba38ba60486a</td>\n",
       "      <td>36ff3b3666df400f956f8335cf53e09e</td>\n",
       "      <td>b44409c0c83a43578f4f2d0a0e4d8ead</td>\n",
       "      <td>2016-12-08 02:26:05 UTC+0000</td>\n",
       "      <td>&lt;p&gt;Hi Alexandra!&lt;/p&gt;\\n&lt;p&gt;Here is the site for ...</td>\n",
       "      <td>36ff3b3666df400f956f8335cf53e09e</td>\n",
       "      <td>Cleveland, Ohio</td>\n",
       "      <td>Mental Health Care</td>\n",
       "      <td>Assist with Recognizing and Developing Potential</td>\n",
       "      <td>2015-10-19 20:56:49 UTC+0000</td>\n",
       "    </tr>\n",
       "  </tbody>\n",
       "</table>\n",
       "</div>"
      ],
      "text/plain": [
       "                       questions_id              ...                  professionals_date_joined\n",
       "0  332a511f1569444485cf7a7a556a5e54              ...               2015-10-19 20:56:49 UTC+0000\n",
       "1  0f1d6a4f276c4a05878dd48e03e52289              ...               2015-10-19 20:56:49 UTC+0000\n",
       "2  0149c6d63e214040b44d4a3789bb00ba              ...               2015-10-19 20:56:49 UTC+0000\n",
       "3  acc611cfb5c44daa8a3d7d65dfffa5ff              ...               2015-10-19 20:56:49 UTC+0000\n",
       "4  b44409c0c83a43578f4f2d0a0e4d8ead              ...               2015-10-19 20:56:49 UTC+0000\n",
       "\n",
       "[5 rows x 15 columns]"
      ]
     },
     "execution_count": 9,
     "metadata": {},
     "output_type": "execute_result"
    }
   ],
   "source": [
    "qa_professionals = question_answers.merge(right=professionals, left_on='answers_author_id', right_on='professionals_id')\n",
    "qa_professionals.head()"
   ]
  }
 ],
 "metadata": {
  "kernelspec": {
   "display_name": "Python 3",
   "language": "python",
   "name": "python3"
  },
  "language_info": {
   "codemirror_mode": {
    "name": "ipython",
    "version": 3
   },
   "file_extension": ".py",
   "mimetype": "text/x-python",
   "name": "python",
   "nbconvert_exporter": "python",
   "pygments_lexer": "ipython3",
   "version": "3.6.8"
  }
 },
 "nbformat": 4,
 "nbformat_minor": 1
}
